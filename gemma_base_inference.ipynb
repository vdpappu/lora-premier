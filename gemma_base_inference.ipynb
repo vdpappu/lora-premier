{
 "cells": [
  {
   "cell_type": "code",
   "execution_count": 1,
   "id": "17b4829e-61e7-4634-a490-bb815ad5a41f",
   "metadata": {},
   "outputs": [],
   "source": [
    "import torch\n",
    "from transformers import AutoModelForCausalLM, AutoTokenizer, GenerationConfig\n",
    "from typing import Optional\n",
    "import time"
   ]
  },
  {
   "cell_type": "code",
   "execution_count": 2,
   "id": "d38fcce5-a6b0-43c0-801f-45c4c34dd54d",
   "metadata": {},
   "outputs": [],
   "source": [
    "def generate_prompt_gemma_base(input_text):\n",
    "    text = f\"<start_of_turn>user: {input_text} <end_of_turn>\\n\\n <start_of_turn>model: \"\n",
    "    return text"
   ]
  },
  {
   "cell_type": "code",
   "execution_count": 3,
   "id": "b2601f94-862a-424f-bf24-51f76fd95f0d",
   "metadata": {},
   "outputs": [
    {
     "name": "stderr",
     "output_type": "stream",
     "text": [
      "`config.hidden_act` is ignored, you should use `config.hidden_activation` instead.\n",
      "Gemma's activation function will be set to `gelu_pytorch_tanh`. Please, use\n",
      "`config.hidden_activation` if you want to override this behaviour.\n",
      "See https://github.com/huggingface/transformers/pull/29402 for more details.\n"
     ]
    },
    {
     "data": {
      "application/vnd.jupyter.widget-view+json": {
       "model_id": "4f02f02d9dd6446284233e836583b002",
       "version_major": 2,
       "version_minor": 0
      },
      "text/plain": [
       "Loading checkpoint shards:   0%|          | 0/2 [00:00<?, ?it/s]"
      ]
     },
     "metadata": {},
     "output_type": "display_data"
    }
   ],
   "source": [
    "base_model = AutoModelForCausalLM.from_pretrained(\"google/gemma-2b\")\n",
    "tokenizer = AutoTokenizer.from_pretrained(\"google/gemma-2b\")"
   ]
  },
  {
   "cell_type": "code",
   "execution_count": 4,
   "id": "ecf653a9-043d-4817-b4a9-b21faf5e8624",
   "metadata": {},
   "outputs": [],
   "source": [
    "generation_config = GenerationConfig(\n",
    "            max_length=200,\n",
    "            temperature=0.7,\n",
    "            top_p=0.9,\n",
    "            top_k=50,\n",
    "            do_sample=True,\n",
    "            repetition_penalty=1.5,\n",
    "            no_repeat_ngram_size=3\n",
    "        )"
   ]
  },
  {
   "cell_type": "code",
   "execution_count": 5,
   "id": "812a3335-a756-443a-813b-ea51020100f5",
   "metadata": {},
   "outputs": [],
   "source": [
    "question = \"I like the toy but my brother is not sharing it with me. What do I do?\"\n",
    "prompt = generate_prompt_gemma_base(input_text=question)"
   ]
  },
  {
   "cell_type": "code",
   "execution_count": 6,
   "id": "649ef633-4e83-49b1-b3ee-71b7f2adcc46",
   "metadata": {},
   "outputs": [],
   "source": [
    "start = time.time()\n",
    "with torch.no_grad():\n",
    "    inputs = tokenizer(prompt, return_tensors=\"pt\")\n",
    "    output = base_model.generate(**inputs, generation_config=generation_config)\n",
    "    response = tokenizer.decode(output[0], skip_special_tokens=True)\n",
    "end = time.time()"
   ]
  },
  {
   "cell_type": "code",
   "execution_count": 7,
   "id": "bb5578e2-93d7-4d51-a181-12c050ca7258",
   "metadata": {},
   "outputs": [
    {
     "name": "stdout",
     "output_type": "stream",
     "text": [
      "Inference time: 101.78 seconds\n",
      "user: I like the toy but my brother is not sharing it with me. What do I do? \n",
      "\n",
      " model:  asfal\n",
      "\n",
      "  facilité\n",
      "\n",
      "  PLWABN: 2100061375440568\n",
      "\n",
      "  onPostExecute: void\n",
      "\n",
      " 0x8400\n",
      "\n",
      " 1993\n",
      "\n",
      " 2005\n",
      "\n",
      " 3007\n",
      "\n",
      " 4010\n",
      "\n",
      "The main function of this tool can be used to extract and recover data from mobile phones, such as text messages, contacts lists, pictures albums etc., even if they have been locked or formatted by other methods; This program does NOT support recovery for all types of devices including Samsung Galaxy S2/S3/Note 8/ Note 9 (SM-G925F/T/I), LG G3/Nexus 6/Nexus Nxt / Nexus 5X/5(N) , HTC One\n"
     ]
    }
   ],
   "source": [
    "print(f\"Inference time: {end-start:.2f} seconds\")\n",
    "print(response)"
   ]
  },
  {
   "cell_type": "code",
   "execution_count": null,
   "id": "2f81c656-cc45-44d1-b46d-38529c3a5f99",
   "metadata": {},
   "outputs": [],
   "source": []
  }
 ],
 "metadata": {
  "kernelspec": {
   "display_name": "Python 3 (ipykernel)",
   "language": "python",
   "name": "python3"
  },
  "language_info": {
   "codemirror_mode": {
    "name": "ipython",
    "version": 3
   },
   "file_extension": ".py",
   "mimetype": "text/x-python",
   "name": "python",
   "nbconvert_exporter": "python",
   "pygments_lexer": "ipython3",
   "version": "3.11.9"
  }
 },
 "nbformat": 4,
 "nbformat_minor": 5
}
