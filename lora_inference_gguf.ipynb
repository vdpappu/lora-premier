{
 "cells": [
  {
   "cell_type": "code",
   "execution_count": null,
   "id": "8b40ee6d-44b0-4c0f-a7a4-e7b2309f7513",
   "metadata": {},
   "outputs": [],
   "source": [
    "from llama_cpp import Llama\n",
    "from typing import Optional\n",
    "import time\n",
    "from huggingface_hub import hf_hub_download"
   ]
  },
  {
   "cell_type": "code",
   "execution_count": null,
   "id": "3e8a5225-d34c-416d-858a-1ee23de83b30",
   "metadata": {},
   "outputs": [],
   "source": [
    "def generate_prompt(input_text: str, instruction: Optional[str] = None) -> str:\n",
    "    text = f\"### Question: {input_text}\\n\\n### Answer: \"\n",
    "    if instruction:\n",
    "        text = f\"### Instruction: {instruction}\\n\\n{text}\"\n",
    "    return text"
   ]
  },
  {
   "cell_type": "code",
   "execution_count": null,
   "id": "e7035fc7-6f37-43fb-a1de-9a20784ce8d9",
   "metadata": {},
   "outputs": [],
   "source": [
    "# Set up the parameters\n",
    "repo_id = \"vdpappu/gemma2_psychologist_1_gguf\"\n",
    "filename = \"lora_psychology_1.gguf\"\n",
    "local_dir = \".\""
   ]
  },
  {
   "cell_type": "code",
   "execution_count": null,
   "id": "e763bbf8-3611-4e03-a701-525c65d3a49f",
   "metadata": {},
   "outputs": [],
   "source": [
    "downloaded_file_path = hf_hub_download(repo_id=repo_id, filename=filename, local_dir=local_dir)\n",
    "print(f\"File downloaded to: {downloaded_file_path}\")"
   ]
  },
  {
   "cell_type": "code",
   "execution_count": null,
   "id": "520ee632-df36-4215-b14f-812c0720ce95",
   "metadata": {},
   "outputs": [],
   "source": [
    "# Load the model \n",
    "llm = Llama(model_path=downloaded_file_path) #1 is thug"
   ]
  },
  {
   "cell_type": "code",
   "execution_count": null,
   "id": "d2a41991-a995-4a77-9720-cd6d99656b78",
   "metadata": {},
   "outputs": [],
   "source": [
    "question = \"I like the toy but my brother is not sharing it with me. What do I do?\"\n",
    "prompt = generate_prompt(input_text=question)"
   ]
  },
  {
   "cell_type": "code",
   "execution_count": null,
   "id": "ffbcd958-d0f3-405c-88a8-bcc9a7654dcb",
   "metadata": {},
   "outputs": [],
   "source": [
    "# Generate text\n",
    "start = time.time()\n",
    "output = llm(prompt, \n",
    "             temperature=0.7,\n",
    "             top_p=0.9,\n",
    "             top_k=50,\n",
    "             repeat_penalty=1.5,\n",
    "             max_tokens=200, \n",
    "             stop=[\"Question:\",\"<eos>\"])\n",
    "end = time.time()\n",
    "print(f\"Inference time: {end-start:.2f} seconds \\n\")\n",
    "print(output['choices'][0]['text'])"
   ]
  },
  {
   "cell_type": "code",
   "execution_count": null,
   "id": "42d13d71-1e47-4bc7-ba71-e9e08f7ffa33",
   "metadata": {},
   "outputs": [],
   "source": []
  }
 ],
 "metadata": {
  "kernelspec": {
   "display_name": "Python 3 (ipykernel)",
   "language": "python",
   "name": "python3"
  },
  "language_info": {
   "codemirror_mode": {
    "name": "ipython",
    "version": 3
   },
   "file_extension": ".py",
   "mimetype": "text/x-python",
   "name": "python",
   "nbconvert_exporter": "python",
   "pygments_lexer": "ipython3",
   "version": "3.11.9"
  }
 },
 "nbformat": 4,
 "nbformat_minor": 5
}
